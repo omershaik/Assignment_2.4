{
 "cells": [
  {
   "cell_type": "code",
   "execution_count": 2,
   "metadata": {},
   "outputs": [
    {
     "name": "stdout",
     "output_type": "stream",
     "text": [
      "Enter the length of side A: 2\n",
      "Enter the length of side B: 3\n",
      "Enter the length of side C: 3\n",
      "Area of rectangle: 4.0\n"
     ]
    }
   ],
   "source": [
    "class Triangle:\n",
    "    def __init__(self,a,b,c):\n",
    "        self.a = a\n",
    "        self.b = b\n",
    "        self.c = c\n",
    "    def area1(self):\n",
    "        return((self.a + self.b + self.c) / 2)\n",
    "        \n",
    "        \n",
    "a = float(input(\"Enter the length of side A: \"))\n",
    "b = float(input(\"Enter the length of side B: \"))\n",
    "c = float(input(\"Enter the length of side C: \"))\n",
    "obj = Triangle(a,b,c)\n",
    "print(\"Area of rectangle:\",obj.area1())\n",
    "\n"
   ]
  },
  {
   "cell_type": "code",
   "execution_count": null,
   "metadata": {},
   "outputs": [],
   "source": []
  },
  {
   "cell_type": "code",
   "execution_count": null,
   "metadata": {},
   "outputs": [],
   "source": []
  },
  {
   "cell_type": "markdown",
   "metadata": {},
   "source": [
    "### function filter_long_words() that takes a list of words and an integer n and returns the list of words that are longer than n."
   ]
  },
  {
   "cell_type": "code",
   "execution_count": 7,
   "metadata": {},
   "outputs": [
    {
     "name": "stdout",
     "output_type": "stream",
     "text": [
      "Please input the list of words: mana manana amnanam\n",
      "Please input an integer: 3\n",
      "['mana', 'manana', 'amnanam']\n",
      "None\n"
     ]
    }
   ],
   "source": [
    "def filter_long_words(text,number):\n",
    "    listwords = []\n",
    "    for i in range(len(text)):\n",
    "        if len(text[i]) > number:\n",
    "            listwords.append(text[i])\n",
    "    print(listwords)\n",
    "def main():\n",
    "    text = input(\"Please input the list of words: \").split()\n",
    "    number = int(input(\"Please input an integer: \"))\n",
    "    filtered_words = filter_long_words(text,number)\n",
    "    print(filtered_words)\n",
    "main()"
   ]
  },
  {
   "cell_type": "code",
   "execution_count": null,
   "metadata": {
    "collapsed": true
   },
   "outputs": [],
   "source": []
  }
 ],
 "metadata": {
  "kernelspec": {
   "display_name": "Python 3",
   "language": "python",
   "name": "python3"
  },
  "language_info": {
   "codemirror_mode": {
    "name": "ipython",
    "version": 3
   },
   "file_extension": ".py",
   "mimetype": "text/x-python",
   "name": "python",
   "nbconvert_exporter": "python",
   "pygments_lexer": "ipython3",
   "version": "3.6.1"
  }
 },
 "nbformat": 4,
 "nbformat_minor": 2
}
